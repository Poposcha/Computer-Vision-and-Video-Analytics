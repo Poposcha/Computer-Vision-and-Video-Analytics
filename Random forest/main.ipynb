{
 "cells": [
  {
   "cell_type": "code",
   "execution_count": 1,
   "metadata": {},
   "outputs": [],
   "source": [
    "import numpy as np\n",
    "import random\n",
    "import os"
   ]
  },
  {
   "cell_type": "code",
   "execution_count": 2,
   "metadata": {},
   "outputs": [],
   "source": [
    "seed = 10\n",
    "random.seed(seed)\n",
    "os.environ['PYTHONHASHSEED'] = str(seed)\n",
    "np.random.seed(seed)"
   ]
  },
  {
   "cell_type": "markdown",
   "metadata": {},
   "source": [
    "<h3>1 Implementing and optimizing a Decision Tree</h3>"
   ]
  },
  {
   "cell_type": "markdown",
   "metadata": {},
   "source": [
    "1.1 Implementation\n",
    "\n",
    "Implement a decision tree using only the NumPy library. Train the decision tree on the provided training set (stl10 train features.npy for features and stl10 train labels.npy for labels), and then test its performance on the test set (stl10 test features.npy for features and stl10 test labels.npy for labels)."
   ]
  },
  {
   "cell_type": "code",
   "execution_count": 3,
   "metadata": {},
   "outputs": [],
   "source": [
    "train_features = np.load('data/stl10_train_features.npy')\n",
    "train_labels = np.load('data/stl10_train_labels.npy')\n",
    "test_features = np.load('data/stl10_test_features.npy')\n",
    "test_labels = np.load('data/stl10_test_labels.npy')"
   ]
  },
  {
   "cell_type": "code",
   "execution_count": 4,
   "metadata": {},
   "outputs": [],
   "source": [
    "class Node:\n",
    "    def __init__(self):\n",
    "        self.depth = 0  # Depth of the current node in the tree\n",
    "        self.is_terminal = False  # Flag indicating if the node is a leaf node\n",
    "        self.column = None  # Index of the feature used for splitting at this node\n",
    "        self.threshold = None  # Threshold value for splitting the feature\n",
    "        self.left = None  # Reference to the left child node\n",
    "        self.right = None  # Reference to the right child node\n",
    "        self.probas = None  # Class probabilities at this node\n",
    "\n",
    "class DecisionTreeClassifier:\n",
    "    def __init__(self, max_depth=3, min_samples_leaf=1, min_samples_split=2):\n",
    "        self.max_depth = max_depth  # Maximum depth of the decision tree\n",
    "        self.min_samples_leaf = min_samples_leaf  # Minimum number of samples required to be at a leaf node\n",
    "        self.min_samples_split = min_samples_split  # Minimum number of samples required to split an internal node\n",
    "        self.labels = None  # Unique classes in the target variable\n",
    "        self.root = None  # Root node of the decision tree\n",
    "\n",
    "    def nodeProbas(self, y):\n",
    "        # Calculate class probabilities for a given node\n",
    "        class_counts = np.bincount(y)\n",
    "        return class_counts / len(y)\n",
    "\n",
    "    def entropy(self, probas):\n",
    "        # Calculate entropy given class probabilities\n",
    "        return -np.sum(probas * np.log2(probas + 1e-10))  # Adding a small value to prevent log(0)\n",
    "\n",
    "    def calcImpurity(self, y):\n",
    "        # Calculate entropy (impurity) for a given set of labels\n",
    "        probas = self.nodeProbas(y)\n",
    "        return self.entropy(probas)\n",
    "\n",
    "    def calcBestSplit(self, X, y):\n",
    "        # Find the best feature and threshold for splitting\n",
    "        best_split_col = None\n",
    "        best_threshold = None\n",
    "        best_info_gain = -np.inf\n",
    "        impurity_before = self.calcImpurity(y)\n",
    "\n",
    "        # Iterate over features and their unique values\n",
    "        for col in range(X.shape[1]):\n",
    "            for threshold in np.unique(X[:, col]):\n",
    "                y_right = y[X[:, col] > threshold]\n",
    "                y_left = y[X[:, col] <= threshold]\n",
    "\n",
    "                if y_right.shape[0] == 0 or y_left.shape[0] == 0:\n",
    "                    continue\n",
    "\n",
    "                impurity_right = self.calcImpurity(y_right)\n",
    "                impurity_left = self.calcImpurity(y_left)\n",
    "\n",
    "                # Calculate information gain\n",
    "                info_gain = impurity_before - ((len(y_left) / len(y)) * impurity_left + (len(y_right) / len(y)) * impurity_right)\n",
    "\n",
    "                if info_gain > best_info_gain:\n",
    "                    best_split_col = col\n",
    "                    best_threshold = threshold\n",
    "                    best_info_gain = info_gain\n",
    "\n",
    "        return best_split_col, best_threshold\n",
    "\n",
    "    def build_tree(self, X, y, node):\n",
    "        # Recursively build the decision tree\n",
    "        if node.depth >= self.max_depth or len(y) < self.min_samples_split or len(np.unique(y)) == 1:\n",
    "            node.is_terminal = True\n",
    "            return\n",
    "\n",
    "        split_col, threshold = self.calcBestSplit(X, y)\n",
    "\n",
    "        if split_col is None:\n",
    "            node.is_terminal = True\n",
    "\n",
    "        if len(y[X[:, split_col] > threshold]) < self.min_samples_leaf or len(y[X[:, split_col] <= threshold]) < self.min_samples_leaf:\n",
    "            node.is_terminal = True\n",
    "            return\n",
    "\n",
    "        node.column = split_col\n",
    "        node.threshold = threshold\n",
    "\n",
    "        node.left = Node()\n",
    "        node.left.depth = node.depth + 1\n",
    "        node.left.probas = self.nodeProbas(y[X[:, split_col] <= threshold])\n",
    "\n",
    "        node.right = Node()\n",
    "        node.right.depth = node.depth + 1\n",
    "        node.right.probas = self.nodeProbas(y[X[:, split_col] > threshold])\n",
    "\n",
    "        self.build_tree(X[X[:, split_col] > threshold], y[X[:, split_col] > threshold], node.right)\n",
    "        self.build_tree(X[X[:, split_col] <= threshold], y[X[:, split_col] <= threshold], node.left)\n",
    "\n",
    "    def fit(self, X, y):\n",
    "        # Fit the decision tree classifier to the training data\n",
    "        self.labels = np.unique(y)\n",
    "        self.root = Node()\n",
    "        self.root.depth = 1\n",
    "        self.root.probas = self.nodeProbas(y)\n",
    "        self.build_tree(X, y, self.root)\n",
    "\n",
    "    def predictSample(self, x, node):\n",
    "        # Predict class probabilities for a single sample\n",
    "        if node.is_terminal:\n",
    "            return node.probas\n",
    "\n",
    "        if x[node.column] > node.threshold:\n",
    "            return self.predictSample(x, node.right)\n",
    "        else:\n",
    "            return self.predictSample(x, node.left)\n",
    "\n",
    "    def predict(self, X):\n",
    "        # Predict class labels for multiple samples\n",
    "        predictions = []\n",
    "        for x in X:\n",
    "            pred = np.argmax(self.predictSample(x, self.root))\n",
    "            predictions.append(pred)\n",
    "        return np.asarray(predictions)"
   ]
  },
  {
   "cell_type": "code",
   "execution_count": 20,
   "metadata": {},
   "outputs": [
    {
     "name": "stdout",
     "output_type": "stream",
     "text": [
      "Test Set Accuracy: 0.199875\n"
     ]
    }
   ],
   "source": [
    "model = DecisionTreeClassifier(max_depth = 2, min_samples_leaf=1, min_samples_split=1)\n",
    "model.fit(train_features, train_labels)\n",
    "prediction = model.predict(test_features)\n",
    "accuracy = np.mean(prediction == test_labels)\n",
    "print(\"Test Set Accuracy:\", accuracy)"
   ]
  },
  {
   "cell_type": "markdown",
   "metadata": {},
   "source": [
    "1.2 Optimization of Hyperparameters\n",
    "\n",
    "Optimize the hyperparameters of the decision tree, such as tree depth. Try to achieve a test set accuracy of 85% or more. Experiment with different values for each parameter and comment on the impact of variation in hyperparameters in the README.txt file (please limit your response to max 3-5 sentences)."
   ]
  },
  {
   "cell_type": "code",
   "execution_count": 11,
   "metadata": {},
   "outputs": [
    {
     "name": "stdout",
     "output_type": "stream",
     "text": [
      "0.826625\n",
      "{'max_depth': 5, 'min_samples_leaf': 1, 'min_samples_split': 2}\n",
      "0.826625\n",
      "{'max_depth': 5, 'min_samples_leaf': 1, 'min_samples_split': 4}\n",
      "0.826625\n",
      "{'max_depth': 5, 'min_samples_leaf': 1, 'min_samples_split': 7}\n",
      "0.826625\n",
      "{'max_depth': 5, 'min_samples_leaf': 1, 'min_samples_split': 10}\n",
      "0.826625\n",
      "{'max_depth': 5, 'min_samples_leaf': 2, 'min_samples_split': 2}\n",
      "0.826625\n",
      "{'max_depth': 5, 'min_samples_leaf': 2, 'min_samples_split': 4}\n",
      "0.826625\n",
      "{'max_depth': 5, 'min_samples_leaf': 2, 'min_samples_split': 7}\n",
      "0.826625\n",
      "{'max_depth': 5, 'min_samples_leaf': 2, 'min_samples_split': 10}\n",
      "0.826625\n",
      "{'max_depth': 5, 'min_samples_leaf': 5, 'min_samples_split': 2}\n",
      "0.826625\n",
      "{'max_depth': 5, 'min_samples_leaf': 5, 'min_samples_split': 4}\n",
      "0.826625\n",
      "{'max_depth': 5, 'min_samples_leaf': 5, 'min_samples_split': 7}\n",
      "0.826625\n",
      "{'max_depth': 5, 'min_samples_leaf': 5, 'min_samples_split': 10}\n",
      "0.826625\n",
      "{'max_depth': 5, 'min_samples_leaf': 7, 'min_samples_split': 2}\n",
      "0.826625\n",
      "{'max_depth': 5, 'min_samples_leaf': 7, 'min_samples_split': 4}\n",
      "0.826625\n",
      "{'max_depth': 5, 'min_samples_leaf': 7, 'min_samples_split': 7}\n",
      "0.826625\n",
      "{'max_depth': 5, 'min_samples_leaf': 7, 'min_samples_split': 10}\n",
      "0.856\n",
      "{'max_depth': 7, 'min_samples_leaf': 1, 'min_samples_split': 2}\n",
      "0.856\n",
      "{'max_depth': 7, 'min_samples_leaf': 1, 'min_samples_split': 4}\n",
      "0.856\n",
      "{'max_depth': 7, 'min_samples_leaf': 1, 'min_samples_split': 7}\n",
      "0.856\n",
      "{'max_depth': 7, 'min_samples_leaf': 1, 'min_samples_split': 10}\n",
      "0.856\n",
      "{'max_depth': 7, 'min_samples_leaf': 2, 'min_samples_split': 2}\n",
      "0.856\n",
      "{'max_depth': 7, 'min_samples_leaf': 2, 'min_samples_split': 4}\n",
      "0.856\n",
      "{'max_depth': 7, 'min_samples_leaf': 2, 'min_samples_split': 7}\n",
      "0.856\n",
      "{'max_depth': 7, 'min_samples_leaf': 2, 'min_samples_split': 10}\n",
      "0.85675\n",
      "{'max_depth': 7, 'min_samples_leaf': 5, 'min_samples_split': 2}\n",
      "0.85675\n",
      "{'max_depth': 7, 'min_samples_leaf': 5, 'min_samples_split': 4}\n",
      "0.85675\n",
      "{'max_depth': 7, 'min_samples_leaf': 5, 'min_samples_split': 7}\n",
      "0.85675\n",
      "{'max_depth': 7, 'min_samples_leaf': 5, 'min_samples_split': 10}\n",
      "0.85675\n",
      "{'max_depth': 7, 'min_samples_leaf': 7, 'min_samples_split': 2}\n",
      "0.85675\n",
      "{'max_depth': 7, 'min_samples_leaf': 7, 'min_samples_split': 4}\n",
      "0.85675\n",
      "{'max_depth': 7, 'min_samples_leaf': 7, 'min_samples_split': 7}\n",
      "0.85675\n",
      "{'max_depth': 7, 'min_samples_leaf': 7, 'min_samples_split': 10}\n",
      "0.862375\n",
      "{'max_depth': 10, 'min_samples_leaf': 1, 'min_samples_split': 2}\n",
      "0.861125\n",
      "{'max_depth': 10, 'min_samples_leaf': 1, 'min_samples_split': 4}\n",
      "0.860125\n",
      "{'max_depth': 10, 'min_samples_leaf': 1, 'min_samples_split': 7}\n",
      "0.861125\n",
      "{'max_depth': 10, 'min_samples_leaf': 1, 'min_samples_split': 10}\n",
      "0.863625\n",
      "{'max_depth': 10, 'min_samples_leaf': 2, 'min_samples_split': 2}\n",
      "0.863625\n",
      "{'max_depth': 10, 'min_samples_leaf': 2, 'min_samples_split': 4}\n",
      "0.862875\n",
      "{'max_depth': 10, 'min_samples_leaf': 2, 'min_samples_split': 7}\n",
      "0.862875\n",
      "{'max_depth': 10, 'min_samples_leaf': 2, 'min_samples_split': 10}\n",
      "0.868125\n",
      "{'max_depth': 10, 'min_samples_leaf': 5, 'min_samples_split': 2}\n",
      "0.868125\n",
      "{'max_depth': 10, 'min_samples_leaf': 5, 'min_samples_split': 4}\n",
      "0.868125\n",
      "{'max_depth': 10, 'min_samples_leaf': 5, 'min_samples_split': 7}\n",
      "0.868125\n",
      "{'max_depth': 10, 'min_samples_leaf': 5, 'min_samples_split': 10}\n",
      "0.865375\n",
      "{'max_depth': 10, 'min_samples_leaf': 7, 'min_samples_split': 2}\n",
      "0.865375\n",
      "{'max_depth': 10, 'min_samples_leaf': 7, 'min_samples_split': 4}\n",
      "0.865375\n",
      "{'max_depth': 10, 'min_samples_leaf': 7, 'min_samples_split': 7}\n",
      "0.865375\n",
      "{'max_depth': 10, 'min_samples_leaf': 7, 'min_samples_split': 10}\n",
      "0.855375\n",
      "{'max_depth': 13, 'min_samples_leaf': 1, 'min_samples_split': 2}\n",
      "0.854875\n",
      "{'max_depth': 13, 'min_samples_leaf': 1, 'min_samples_split': 4}\n",
      "0.8525\n",
      "{'max_depth': 13, 'min_samples_leaf': 1, 'min_samples_split': 7}\n",
      "0.8545\n",
      "{'max_depth': 13, 'min_samples_leaf': 1, 'min_samples_split': 10}\n",
      "0.860875\n",
      "{'max_depth': 13, 'min_samples_leaf': 2, 'min_samples_split': 2}\n",
      "0.860875\n",
      "{'max_depth': 13, 'min_samples_leaf': 2, 'min_samples_split': 4}\n",
      "0.859125\n",
      "{'max_depth': 13, 'min_samples_leaf': 2, 'min_samples_split': 7}\n",
      "0.858375\n",
      "{'max_depth': 13, 'min_samples_leaf': 2, 'min_samples_split': 10}\n",
      "0.866375\n",
      "{'max_depth': 13, 'min_samples_leaf': 5, 'min_samples_split': 2}\n",
      "0.866375\n",
      "{'max_depth': 13, 'min_samples_leaf': 5, 'min_samples_split': 4}\n",
      "0.866375\n",
      "{'max_depth': 13, 'min_samples_leaf': 5, 'min_samples_split': 7}\n",
      "0.866375\n",
      "{'max_depth': 13, 'min_samples_leaf': 5, 'min_samples_split': 10}\n",
      "0.863375\n",
      "{'max_depth': 13, 'min_samples_leaf': 7, 'min_samples_split': 2}\n",
      "0.863375\n",
      "{'max_depth': 13, 'min_samples_leaf': 7, 'min_samples_split': 4}\n",
      "0.863375\n",
      "{'max_depth': 13, 'min_samples_leaf': 7, 'min_samples_split': 7}\n",
      "0.863375\n",
      "{'max_depth': 13, 'min_samples_leaf': 7, 'min_samples_split': 10}\n",
      "Best Parameters: {'max_depth': 10, 'min_samples_leaf': 5, 'min_samples_split': 2}\n",
      "Test Accuracy: 0.868125\n"
     ]
    }
   ],
   "source": [
    "best_accuracy = 0\n",
    "best_params = {}\n",
    "\n",
    "max_depth_values = [5, 7, 10, 13]\n",
    "min_samples_leaf_values = [1, 2, 5, 7]\n",
    "min_samples_split_values = [2, 4, 7, 10]\n",
    "\n",
    "for max_depth in max_depth_values:\n",
    "    for min_samples_leaf in min_samples_leaf_values:\n",
    "        for min_samples_split in min_samples_split_values:\n",
    "            model = DecisionTreeClassifier(max_depth=max_depth, min_samples_leaf=min_samples_leaf, min_samples_split=min_samples_split)\n",
    "            model.fit(train_features, train_labels)\n",
    "\n",
    "            y_pred = model.predict(test_features)\n",
    "            \n",
    "            accuracy = np.mean(y_pred == test_labels)\n",
    "            \n",
    "            print(accuracy)\n",
    "            print({'max_depth': max_depth, 'min_samples_leaf': min_samples_leaf, 'min_samples_split': min_samples_split})\n",
    "            if accuracy > best_accuracy:\n",
    "                best_accuracy = accuracy\n",
    "                best_params = {'max_depth': max_depth, 'min_samples_leaf': min_samples_leaf, 'min_samples_split': min_samples_split}\n",
    "\n",
    "print(\"Best Parameters:\", best_params)\n",
    "print(\"Test Accuracy:\", best_accuracy)  "
   ]
  },
  {
   "cell_type": "code",
   "execution_count": 9,
   "metadata": {},
   "outputs": [
    {
     "name": "stdout",
     "output_type": "stream",
     "text": [
      "Best Parameters: {'max_depth': 10, 'min_samples_leaf': 5, 'min_samples_split': 2}\n",
      "Test Accuracy: 0.868125\n"
     ]
    }
   ],
   "source": [
    "print(\"Best Parameters:\", best_params)\n",
    "print(\"Test Accuracy:\", best_accuracy) "
   ]
  },
  {
   "cell_type": "markdown",
   "metadata": {},
   "source": [
    "<h3>2 Implementing and optimizing a Random Forest</h3>"
   ]
  },
  {
   "cell_type": "markdown",
   "metadata": {},
   "source": [
    "2.1 Implementation\n",
    "\n",
    "Implement a random forest using your implemented decision tree (using only the NumPy library). Train the random forest on the training set and then test its performance on the test set. Use the information gain criterion as specified in the lecture."
   ]
  },
  {
   "cell_type": "code",
   "execution_count": 12,
   "metadata": {},
   "outputs": [],
   "source": [
    "class RandomForestClassifier:\n",
    "    def __init__(self, n_trees=5, max_depth=3, min_samples_leaf=1, min_samples_split=2):\n",
    "        self.n_trees = n_trees  # Number of decision trees in the forest\n",
    "        self.max_depth = max_depth  # Maximum depth of each decision tree\n",
    "        self.min_samples_leaf = min_samples_leaf  # Minimum number of samples required to be at a leaf node\n",
    "        self.min_samples_split = min_samples_split  # Minimum number of samples required to split an internal node\n",
    "        self.trees = []  # List to store individual decision trees\n",
    "\n",
    "    def fit(self, X, y):\n",
    "        for _ in range(self.n_trees):\n",
    "            # Randomly sample\n",
    "            sample = np.random.choice(X.shape[0], size=X.shape[0], replace=True)\n",
    "            X_sample = X[sample]\n",
    "            y_sample = y[sample]\n",
    "            \n",
    "            # Train a decision tree on the sample\n",
    "            tree = DecisionTreeClassifier(max_depth=self.max_depth, \n",
    "                                          min_samples_leaf=self.min_samples_leaf, \n",
    "                                          min_samples_split=self.min_samples_split)\n",
    "            tree.fit(X_sample, y_sample)\n",
    "            \n",
    "            # Add the trained tree to the list of trees\n",
    "            self.trees.append(tree)\n",
    "\n",
    "    def predict(self, X):\n",
    "        # Make predictions for each tree and aggregate the results\n",
    "        predictions = np.zeros((X.shape[0], len(self.trees)))\n",
    "        for i, tree in enumerate(self.trees):\n",
    "            predictions[:, i] = tree.predict(X)\n",
    "            \n",
    "        # Use majority voting to get the final prediction\n",
    "        return np.apply_along_axis(lambda x: np.bincount(x.astype(int)).argmax(), axis=1, arr=predictions)"
   ]
  },
  {
   "cell_type": "code",
   "execution_count": 13,
   "metadata": {},
   "outputs": [
    {
     "name": "stdout",
     "output_type": "stream",
     "text": [
      "Accuracy: 0.387\n"
     ]
    }
   ],
   "source": [
    "forest_model = RandomForestClassifier(n_trees=3, max_depth=3, min_samples_leaf=5, min_samples_split=2)\n",
    "forest_model.fit(train_features, train_labels)\n",
    "\n",
    "predictions = forest_model.predict(test_features)\n",
    "\n",
    "accuracy = np.mean(predictions == test_labels)\n",
    "print(\"Accuracy:\", accuracy)"
   ]
  },
  {
   "cell_type": "code",
   "execution_count": 16,
   "metadata": {},
   "outputs": [
    {
     "name": "stdout",
     "output_type": "stream",
     "text": [
      "0.897375 5\n",
      "0.8995 7\n",
      "0.907 10\n",
      "0.90725 13\n",
      "0.90525 15\n",
      "0.91025 18\n",
      "0.90975 20\n",
      "0.910125 25\n",
      "0.9095 30\n"
     ]
    }
   ],
   "source": [
    "accuracy_list = []\n",
    "# best_params = {max_depth: 10, min_samples_leaf: 5, min_samples_split: 2}\n",
    "\n",
    "max_depth_values = [5, 7, 10, 13, 15, 18, 20, 25, 30]\n",
    "\n",
    "for max_depth in max_depth_values:\n",
    "    model = RandomForestClassifier(n_trees=max_depth, max_depth=10, min_samples_leaf=5, min_samples_split=2)\n",
    "    model.fit(train_features, train_labels)\n",
    "\n",
    "    y_pred = model.predict(test_features)\n",
    "    \n",
    "    accuracy = np.mean(y_pred == test_labels)\n",
    "    accuracy_list.append(accuracy)\n",
    "    \n",
    "    print(accuracy, max_depth)"
   ]
  },
  {
   "cell_type": "code",
   "execution_count": 17,
   "metadata": {},
   "outputs": [
    {
     "name": "stdout",
     "output_type": "stream",
     "text": [
      "Best accuracy: 0.91025 with max_depth : 18\n"
     ]
    }
   ],
   "source": [
    "print(\"Best accuracy: {} with max_depth : {}\".format(max(accuracy_list), max_depth_values[np.argmax(accuracy_list)]))"
   ]
  },
  {
   "cell_type": "code",
   "execution_count": 19,
   "metadata": {},
   "outputs": [
    {
     "data": {
      "text/plain": [
       "[<matplotlib.lines.Line2D at 0x19f0bd74a70>]"
      ]
     },
     "execution_count": 19,
     "metadata": {},
     "output_type": "execute_result"
    },
    {
     "data": {
      "image/png": "[encoded data removed]",
      "text/plain": [
       "<Figure size 640x480 with 1 Axes>"
      ]
     },
     "metadata": {},
     "output_type": "display_data"
    }
   ],
   "source": [
    "import matplotlib.pyplot as plt\n",
    "\n",
    "plt.plot(max_depth_values, accuracy_list)"
   ]
  }
 ],
 "metadata": {
  "kernelspec": {
   "display_name": "cv_env",
   "language": "python",
   "name": "python3"
  },
  "language_info": {
   "codemirror_mode": {
    "name": "ipython",
    "version": 3
   },
   "file_extension": ".py",
   "mimetype": "text/x-python",
   "name": "python",
   "nbconvert_exporter": "python",
   "pygments_lexer": "ipython3",
   "version": "3.12.3"
  }
 },
 "nbformat": 4,
 "nbformat_minor": 2
}
